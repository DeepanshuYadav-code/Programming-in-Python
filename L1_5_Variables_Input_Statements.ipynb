{
  "nbformat": 4,
  "nbformat_minor": 0,
  "metadata": {
    "colab": {
      "provenance": [],
      "authorship_tag": "ABX9TyM7N12tVQBwVGM99/qpRmOr",
      "include_colab_link": true
    },
    "kernelspec": {
      "name": "python3",
      "display_name": "Python 3"
    },
    "language_info": {
      "name": "python"
    }
  },
  "cells": [
    {
      "cell_type": "markdown",
      "metadata": {
        "id": "view-in-github",
        "colab_type": "text"
      },
      "source": [
        "<a href=\"https://colab.research.google.com/github/DeepanshuYadav-code/Programming-in-Python/blob/main/L1_5_Variables_Input_Statements.ipynb\" target=\"_parent\"><img src=\"https://colab.research.google.com/assets/colab-badge.svg\" alt=\"Open In Colab\"/></a>"
      ]
    },
    {
      "cell_type": "code",
      "execution_count": 4,
      "metadata": {
        "id": "GELu5IUcAPIR",
        "colab": {
          "base_uri": "https://localhost:8080/"
        },
        "outputId": "e0483e86-516a-457b-8800-8c00da3943e9"
      },
      "outputs": [
        {
          "output_type": "stream",
          "name": "stdout",
          "text": [
            "Type your name:\n",
            "Deepanshu\n",
            "Which place are you in\n",
            "Mumbai\n",
            "Hello Deepanshu How is the weather in Mumbai ?\n",
            "Btw, What is your age?\n",
            "21\n",
            "Good to know that you are 21 years old\n"
          ]
        }
      ],
      "source": [
        "print(\"Type your name:\")\n",
        "n = str(input())\n",
        "print(\"Which place are you in\")\n",
        "p = str(input())\n",
        "print(\"Hello\", n, \"How is the weather in\", p, \"?\")\n",
        "print(\"Btw, What is your age?\")\n",
        "age = int(input())\n",
        "print(\"Good to know that you are\", age, \"years old\")"
      ]
    }
  ]
}