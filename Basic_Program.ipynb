{
  "nbformat": 4,
  "nbformat_minor": 0,
  "metadata": {
    "colab": {
      "provenance": [],
      "authorship_tag": "ABX9TyNpZfQ0D/bfdepYsY4Ccl7Y"
    },
    "kernelspec": {
      "name": "python3",
      "display_name": "Python 3"
    },
    "language_info": {
      "name": "python"
    }
  },
  "cells": [
    {
      "cell_type": "code",
      "execution_count": 1,
      "metadata": {
        "colab": {
          "base_uri": "https://localhost:8080/"
        },
        "id": "myIYBe-f6SHS",
        "outputId": "7f13f2ef-7ca0-49ae-cafb-f6b599e4a95c"
      },
      "outputs": [
        {
          "output_type": "stream",
          "name": "stdout",
          "text": [
            "10\n",
            "11\n"
          ]
        }
      ],
      "source": [
        "a = 10\n",
        "print (a)\n",
        "a = a + 1\n",
        "print(a)"
      ]
    }
  ]
}